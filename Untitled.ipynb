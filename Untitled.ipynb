{
 "cells": [
  {
   "cell_type": "code",
   "execution_count": null,
   "metadata": {
    "collapsed": true
   },
   "outputs": [],
   "source": [
    "def signal_rate(p, intensityfunc):\n",
    "    radius=np.arange(0,p,0.001)\n",
    "    cumulativesignalrate = np.trapz(2*np.pi*radius*intensityfunc(radius), radius)/(np.pi * (p**2))\n",
    "    return cumulativesignalrate\n",
    "signal_rate2 = np.vectorize(signal_rate)"
   ]
  }
 ],
 "metadata": {
  "kernelspec": {
   "display_name": "Python 3",
   "language": "python",
   "name": "python3"
  },
  "language_info": {
   "codemirror_mode": {
    "name": "ipython",
    "version": 3
   },
   "file_extension": ".py",
   "mimetype": "text/x-python",
   "name": "python",
   "nbconvert_exporter": "python",
   "pygments_lexer": "ipython3",
   "version": "3.5.2"
  }
 },
 "nbformat": 4,
 "nbformat_minor": 1
}
